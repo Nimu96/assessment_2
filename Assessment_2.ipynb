{
  "nbformat": 4,
  "nbformat_minor": 0,
  "metadata": {
    "colab": {
      "private_outputs": true,
      "provenance": [],
      "collapsed_sections": [],
      "authorship_tag": "ABX9TyPhMdbVWs9MQg2UM7YGmPGH",
      "include_colab_link": true
    },
    "kernelspec": {
      "name": "python3",
      "display_name": "Python 3"
    },
    "language_info": {
      "name": "python"
    }
  },
  "cells": [
    {
      "cell_type": "markdown",
      "metadata": {
        "id": "view-in-github",
        "colab_type": "text"
      },
      "source": [
        "<a href=\"https://colab.research.google.com/github/Nimu96/assessment_2/blob/main/Assessment_2.ipynb\" target=\"_parent\"><img src=\"https://colab.research.google.com/assets/colab-badge.svg\" alt=\"Open In Colab\"/></a>"
      ]
    },
    {
      "cell_type": "code",
      "source": [
        "%reset     #using this to clear the cache "
      ],
      "metadata": {
        "id": "QDfZukJSiKYo"
      },
      "execution_count": null,
      "outputs": []
    },
    {
      "cell_type": "markdown",
      "source": [
        "In this code what I did is taking inputs for employees from user and save it to the dictionary and did the maths to calculate commission and maped all employees data in bar chart and also a csv file.  "
      ],
      "metadata": {
        "id": "_zunh5bdRL1a"
      }
    },
    {
      "cell_type": "markdown",
      "source": [
        "**Step 1**:\n",
        "\n",
        "\n",
        "Taking inputs for employee and saving it to the dictionary"
      ],
      "metadata": {
        "id": "3wMt8Sw7fyXX"
      }
    },
    {
      "cell_type": "code",
      "execution_count": null,
      "metadata": {
        "id": "Hv_zSGjEKprV"
      },
      "outputs": [],
      "source": [
        "Project_file = {}               #Object for saving all inputs \n",
        "while True:                     #loop will run until user enter the right input\n",
        "\n",
        "  try:\n",
        "    Num = int(input(\"Enter the number of employee: \"))\n",
        "    break\n",
        "  except:\n",
        "    print(\"invalid input please enter the valid number\")\n",
        "    "
      ]
    },
    {
      "cell_type": "markdown",
      "source": [
        "**Step 2:**\n",
        "\n",
        "Calculating the commision of employee and monthly salary according to there sales "
      ],
      "metadata": {
        "id": "03uNIkYZm8Uz"
      }
    },
    {
      "cell_type": "code",
      "source": [
        "employee = {}                                     #object for each employee\n",
        "for i in range(Num):                              #loop will run as per the number of employee\n",
        "\n",
        "\n",
        "  #All inputs for employee\n",
        "\n",
        "  employee['name'] = input(\"name: \")\n",
        "  employee['sale1'] = int(input(\"sale1: \"))\n",
        "  employee['sale2'] = int(input(\"sale2: \"))\n",
        "  employee['sale3'] = int(input(\"sale3: \"))\n",
        "  employee['sale4'] = int(input(\"sale4: \"))\n",
        "    \n",
        "    #if else logic to calculate the commission\n",
        "    \n",
        "  if employee['sale1'] > 2000:\n",
        "    employee['comm1'] = int(0.45*employee['sale1'])\n",
        "  else:\n",
        "    employee['comm1'] = int(0.3*employee['sale1'])\n",
        "          \n",
        "  if employee['sale2'] > 2000:\n",
        "    employee['comm2'] = int(0.45*employee['sale2'])\n",
        "  else:\n",
        "    employee['comm2'] = int(0.3*employee['sale2'])\n",
        "          \n",
        "  if employee['sale3'] > 2000:\n",
        "    employee['comm3'] = int(0.45*employee['sale3'])\n",
        "  else:\n",
        "    employee['comm3'] = int(0.3*employee['sale3'])\n",
        "      \n",
        "  if employee['sale4'] > 2000:\n",
        "    employee['comm4'] = int(0.45*employee['sale4'])\n",
        "  else:\n",
        "    employee['comm4'] = int(0.3*employee['sale4'])\n",
        "    \n",
        "#Calculating monthly pay of the employee\n",
        "\n",
        "  employee['pay1'] = employee['comm1'] + 500\n",
        "  employee['pay2'] = employee['comm2'] + 500\n",
        "  employee['pay3'] = employee['comm3'] + 500\n",
        "  employee['pay4'] = employee['comm4'] + 500\n",
        "    \n",
        "#adding the employee object to project file\n",
        "    \n",
        "  Project_file[i] = employee\n",
        "    \n",
        "#removing the details of present employee to add it to next one\n",
        "  employee = {}"
      ],
      "metadata": {
        "id": "S9EhOOPd2ONG"
      },
      "execution_count": null,
      "outputs": []
    },
    {
      "cell_type": "markdown",
      "source": [
        "**Step 3:**\n",
        "\n",
        "Importing json to store the files."
      ],
      "metadata": {
        "id": "G7JrbBa4AJUr"
      }
    },
    {
      "cell_type": "code",
      "source": [
        "import json\n",
        "\n",
        "#dumps the dictionary file to json\n",
        "json_object = json.dumps(Project_file, indent=3)\n",
        "\n",
        "# it opens the dictionary of employee\n",
        "with open(\"employee.json\", \"w\") as file:\n",
        "    file.write(json_object)\n",
        "\n",
        "#directories for average sales,comm and monthlypay    \n",
        "avg_sales = [] \n",
        "avg_comm = [] \n",
        "monthly_pay = [] \n",
        "\n",
        "#loads the json file which contains employee data\n",
        "with open(\"employee.json\", \"r\") as file:\n",
        "    loaded_file = json.load(file)\n",
        "    \n",
        "#in this for loop it will run until the length of the index \n",
        "for i in range(len(loaded_file)):\n",
        "    key = str(i)\n",
        "    #calculate average sale\n",
        "    avgSale = (loaded_file[key]['sale1'] +loaded_file[key]['sale2'] + loaded_file[key]['sale3'] + loaded_file[key]['sale4'])/4\n",
        "    \n",
        "    #calculate average commission\n",
        "    avgComm = (loaded_file[key]['comm1'] +loaded_file[key]['comm2'] + loaded_file[key]['comm3'] + loaded_file[key]['comm4'])/4\n",
        "    \n",
        "    #calculate monthly pay\n",
        "    monthlyPay = loaded_file[key]['pay1'] +loaded_file[key]['pay2'] + loaded_file[key]['pay3'] + loaded_file[key]['pay4']\n",
        "    \n",
        "    #add the calucated avgSale, avgComm, monthlyPay to their respected list\n",
        "    avg_sales.append(avgSale)\n",
        "    avg_comm.append(avgComm)\n",
        "    monthly_pay.append(monthlyPay)\n",
        "\n",
        "names = [] \n",
        "sale1 = [] \n",
        "sale2 = [] \n",
        "sale3 = [] \n",
        "sale4 = [] \n",
        "\n",
        "#running it the number of time as the index have through the loaded file\n",
        "for i in range(len(loaded_file)):\n",
        "    key = str(i)\n",
        "    \n",
        "    #adding name of the employee to list names\n",
        "    names.append(loaded_file[key]['name'])\n",
        "    \n",
        "    #adding sale1, sale2, sale3, sale4 values to their respective list \n",
        "    sale1.append(loaded_file[key]['sale1'])\n",
        "    sale2.append(loaded_file[key]['sale2'])\n",
        "    sale3.append(loaded_file[key]['sale3'])\n",
        "    sale4.append(loaded_file[key]['sale4'])"
      ],
      "metadata": {
        "id": "Tv6kK2iu_3XJ"
      },
      "execution_count": null,
      "outputs": []
    },
    {
      "cell_type": "markdown",
      "source": [
        "Open Json file which contains employee data"
      ],
      "metadata": {
        "id": "W-CtTRGcrH1P"
      }
    },
    {
      "cell_type": "code",
      "source": [
        "with open(\"employee.json\", \"r\") as file:\n",
        "  loaded_file = json.load(file)\n",
        "    \n",
        "#using each key, value to calculate average sale, commision and monthlypay\n",
        "for i in range(len(loaded_file)):\n",
        "    key = str(i)\n",
        "    #calculate average sale\n",
        "    avgSale = (loaded_file[key]['sale1'] +loaded_file[key]['sale2'] + loaded_file[key]['sale3'] + loaded_file[key]['sale4'])/4\n",
        "    \n",
        "    #calculate average commission\n",
        "    avgComm = (loaded_file[key]['comm1'] +loaded_file[key]['comm2'] + loaded_file[key]['comm3'] + loaded_file[key]['comm4'])/4\n",
        "    #calculate monthly pay\n",
        "    monthlyPay = loaded_file[key]['pay1'] +loaded_file[key]['pay2'] + loaded_file[key]['pay3'] + loaded_file[key]['pay4']\n"
      ],
      "metadata": {
        "id": "ySUmzUUAoCOF"
      },
      "execution_count": null,
      "outputs": []
    },
    {
      "cell_type": "markdown",
      "source": [
        "**Step 4**\n",
        "\n",
        "Making graph using numpy"
      ],
      "metadata": {
        "id": "0tpoY-90yhza"
      }
    },
    {
      "cell_type": "code",
      "source": [
        "import numpy as np\n",
        "import matplotlib.pyplot as plt\n",
        "\n",
        "#comparing index length \n",
        "num1 = len(Project_file)                         \n",
        "ind = np.arange(num1) \n",
        "width = 0.2 #defining width of the bar\n",
        "  \n",
        "#Bar for sale 1\n",
        "bar1 = plt.bar(ind, sale1, width, color = 'r') \n",
        "  \n",
        "#Bar for sale 2\n",
        "bar2 = plt.bar(ind+width, sale2, width, color='grey')\n",
        "\n",
        "#Bar for sale 3\n",
        "bar3 = plt.bar(ind+width*2, sale3, width, color = 'brown')\n",
        "\n",
        "#Bar for sale 4\n",
        "bar4 = plt.bar(ind+width*3, sale4, width, color = 'orange')\n",
        "\n",
        "#Title of the plot\n",
        "plt.title(\"Weekly Sales for the Month by Sales Employees\")\n",
        "\n",
        "#Assigning legends\n",
        "plt.legend((bar1, bar2, bar3, bar4), (\"Week 1\", \"Week 2\", \"Week 3\", \"Week 4\"))\n",
        "plt.xticks(ind+width,names)\n",
        "\n",
        "#Display the plot\n",
        "plt.show()\n",
        "\n",
        "#initailizing num2\n",
        "num2 = len(avg_sales) \n",
        "ind = np.arange(num2) \n",
        "width = 0.3 #defining width of the bar\n",
        "  \n",
        "#Bar for monthly pay\n",
        "Bar1 = plt.bar(ind, monthly_pay, width, color = 'orange')\n",
        "\n",
        "#Bar for average commission\n",
        "Bar2 = plt.bar(ind+width, avg_comm, width, color='purple')\n",
        "\n",
        "#Bar for average sales\n",
        "Bar3 = plt.bar(ind+width*2, avg_sales, width, color='green')\n",
        "\n",
        "#Title for plot\n",
        "plt.title(\"Monthly Average Sales, Commision and Pay Earned by Employees\")\n",
        "plt.xticks(ind+width,names)\n",
        "\n",
        "#Assigning bar\n",
        "plt.legend((Bar1, Bar2, Bar3), (\"Monthly pay \", \"Monthly Comm\", \"Avg Sales\"))\n",
        "\n",
        "#Display the plot\n",
        "plt.show()"
      ],
      "metadata": {
        "id": "8zVCnLuZygBm"
      },
      "execution_count": null,
      "outputs": []
    },
    {
      "cell_type": "markdown",
      "source": [
        "**Step 5:**\n",
        "\n",
        "creating CSV file for all employees "
      ],
      "metadata": {
        "id": "GrSfdX9-psSa"
      }
    },
    {
      "cell_type": "code",
      "source": [
        "import csv\n",
        "f = open('csv_file.csv', 'w')\n",
        "\n",
        "# create the csv writer\n",
        "col_names = Project_file[0].keys()\n",
        "writer = csv.DictWriter(f,fieldnames=col_names)\n",
        "writer.writeheader()\n",
        "\n",
        "# write a row to the csv file\n",
        "writer.writerows(Project_file.values())\n",
        "\n",
        "# close the file\n",
        "f.close()"
      ],
      "metadata": {
        "id": "RHQb9YjQaC41"
      },
      "execution_count": null,
      "outputs": []
    }
  ]
}